{
 "cells": [
  {
   "cell_type": "code",
   "execution_count": 22,
   "id": "c03782bc",
   "metadata": {},
   "outputs": [],
   "source": [
    "from tkinter import*\n",
    "from tkinter import messagebox\n",
    "import wikipedia as w\n",
    "import os\n",
    "\n",
    "assign =Tk()\n",
    "assign.title(\"WIKI SEARCH\")\n",
    "font_format=(\"Arial\",17,\"bold\")\n",
    "\n",
    "def search():\n",
    "    a=w.summary(entry.get())\n",
    "    with open(\"testfiles.txt\",\"w\") as file:\n",
    "        file.write(a)\n",
    "    \n",
    "def win():\n",
    "    os.system(\"testfiles.txt\")\n",
    "      \n",
    "label1=Label(assign,text=\"Enter the Key Word\",font=font_format)\n",
    "entry = Entry(assign)\n",
    "text=Text(assign)\n",
    "\n",
    "button1 = Button(assign, text = \"Search and Save\", padx=40,pady=20,command = search,  font = font_format)\n",
    "\n",
    "button2 = Button(assign, text = \"Open\", padx = 40, pady=20, command = win, font = font_format)\n",
    "\n",
    "\n",
    "\n",
    "label1.pack()\n",
    "entry.pack()\n",
    "text.pack()\n",
    "button1.pack()\n",
    "button2.pack()\n",
    "\n",
    "assign.mainloop()"
   ]
  },
  {
   "cell_type": "code",
   "execution_count": 24,
   "id": "54d2e88a",
   "metadata": {},
   "outputs": [],
   "source": []
  },
  {
   "cell_type": "code",
   "execution_count": null,
   "id": "9462a9e1",
   "metadata": {},
   "outputs": [],
   "source": []
  }
 ],
 "metadata": {
  "kernelspec": {
   "display_name": "Python 3",
   "language": "python",
   "name": "python3"
  },
  "language_info": {
   "codemirror_mode": {
    "name": "ipython",
    "version": 3
   },
   "file_extension": ".py",
   "mimetype": "text/x-python",
   "name": "python",
   "nbconvert_exporter": "python",
   "pygments_lexer": "ipython3",
   "version": "3.8.8"
  }
 },
 "nbformat": 4,
 "nbformat_minor": 5
}
